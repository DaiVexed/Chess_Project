{
  "nbformat": 4,
  "nbformat_minor": 0,
  "metadata": {
    "colab": {
      "provenance": []
    },
    "kernelspec": {
      "name": "python3",
      "display_name": "Python 3"
    },
    "language_info": {
      "name": "python"
    }
  },
  "cells": [
    {
      "cell_type": "code",
      "execution_count": 26,
      "metadata": {
        "id": "pDPXCePJHX8a"
      },
      "outputs": [],
      "source": [
        "#import libraries\n",
        "import requests\n",
        "import pandas as pd\n",
        "import time\n",
        "import matplotlib.pyplot as plt\n",
        "import datetime\n",
        "from datetime import datetime, timedelta"
      ]
    },
    {
      "cell_type": "code",
      "source": [
        "#API CALL\n",
        "url = f'https://api.chess.com/pub/player/{username}/stats'\n",
        "response = requests.get(url, headers = {'User-Agent': 'username: Masterclass_Insanity, email: joeyandkristy7@gmail.com'})\n",
        "data = response.json()\n",
        "\n",
        "if response.status_code == 200:\n",
        "    data = response.json()\n",
        "    print('data received')\n",
        "else:\n",
        "    print(f\"Request failed with status code: {response.status_code}\")\n",
        "    print(response.text)  # Print the response content for debugging"
      ],
      "metadata": {
        "colab": {
          "base_uri": "https://localhost:8080/"
        },
        "id": "EBoE6uxrH_Hk",
        "outputId": "f3e8183c-e1de-43c6-ce0d-12de237b2b01"
      },
      "execution_count": 27,
      "outputs": [
        {
          "output_type": "stream",
          "name": "stdout",
          "text": [
            "data received\n"
          ]
        }
      ]
    },
    {
      "cell_type": "code",
      "source": [
        "# Function to get the earliest available date\n",
        "def get_earliest_date(player_id):\n",
        "    url = f'https://api.chess.com/pub/player/{player_id}/stats'\n",
        "    response = requests.get(url, headers = {'User-Agent': 'username: Masterclass_Insanity, email: joeyandkristy7@gmail.com'})\n",
        "    if response.status_code == 200:\n",
        "        data = response.json()\n",
        "        if 'chess_rapid' in data and 'last' in data['chess_rapid']:\n",
        "            return data['chess_rapid']['last']['date']\n",
        "    return None\n",
        "\n",
        "# Specify the player's ID\n",
        "player_id = 'Masterclass_Insanity'\n",
        "\n",
        "# Get the earliest available date\n",
        "earliest_date = get_earliest_date(player_id)\n",
        "\n",
        "if earliest_date is not None:\n",
        "    # Convert the earliest date to a datetime object\n",
        "    earliest_date = datetime.fromtimestamp(earliest_date)\n",
        "\n",
        "    # Get the current date\n",
        "    current_date = datetime.now()\n",
        "\n",
        "    # Initialize the start_date\n",
        "    start_date = earliest_date.strftime('%Y-%m-%d')\n",
        "\n",
        "    # Initialize an empty list to store data for each day\n",
        "    all_data = []\n",
        "\n",
        "    # Construct API requests for each day in the date range\n",
        "    while start_date <= current_date.strftime('%Y-%m-%d'):\n",
        "        # Construct the API request URL for the current date\n",
        "        url = f'https://api.chess.com/pub/player/{player_id}/stats?date={start_date}'\n",
        "\n",
        "        # Send the API request\n",
        "        response = requests.get(url, headers = {'User-Agent': 'username: Masterclass_Insanity, email: joeyandkristy7@gmail.com'})\n",
        "\n",
        "        # Check for a valid response before processing\n",
        "        if response.status_code == 200:\n",
        "            data = response.json()\n",
        "            all_data.append(data)\n",
        "\n",
        "        # Increment the start_date for the next iteration\n",
        "        start_date = (earliest_date + timedelta(days=1)).strftime('%Y-%m-%d')\n",
        "\n",
        "    # Now, all_data contains data from the earliest date to the current date\n",
        "else:\n",
        "    print(\"No data available for the player.\")"
      ],
      "metadata": {
        "colab": {
          "base_uri": "https://localhost:8080/"
        },
        "id": "MY-FZjBulJcS",
        "outputId": "ed2ec3a4-fb78-4264-bcd2-17fb0559e71e"
      },
      "execution_count": 29,
      "outputs": [
        {
          "output_type": "stream",
          "name": "stdout",
          "text": [
            "2023-10-18 23:25:14\n"
          ]
        }
      ]
    },
    {
      "cell_type": "code",
      "source": [
        "timestamps = [1697658771, ...]  # Replace with actual timestamps\n",
        "ratings = [1191, ...]  # Replace with actual ratings\n",
        "\n",
        "# Convert timestamps to datetime objects\n",
        "dates = [datetime.datetime.fromtimestamp(ts) for ts in timestamps]\n",
        "\n",
        "# Create the line chart\n",
        "plt.figure(figsize=(10, 6))\n",
        "plt.plot(dates, ratings, marker='o', linestyle='-')\n",
        "plt.xlabel('Date')\n",
        "plt.ylabel('Rating')\n",
        "plt.title('Player Rating Over Time')\n",
        "plt.grid(True)\n",
        "\n",
        "# Show the plot or save it to a file\n",
        "plt.show()"
      ],
      "metadata": {
        "id": "k1fuj0jxnjDq"
      },
      "execution_count": null,
      "outputs": []
    }
  ]
}